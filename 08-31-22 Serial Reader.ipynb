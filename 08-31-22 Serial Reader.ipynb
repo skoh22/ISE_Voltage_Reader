{
 "cells": [
  {
   "cell_type": "markdown",
   "id": "108be4ed",
   "metadata": {},
   "source": [
    "Code modified from https://colab.research.google.com/github/justinbois/bootcamp/blob/gh-pages/2021/lessons/l40_serial.ipynb#scrollTo=EETrbqldzxsz"
   ]
  },
  {
   "cell_type": "code",
   "execution_count": null,
   "id": "dd7a9b00",
   "metadata": {},
   "outputs": [],
   "source": [
    "%pip install pyserial"
   ]
  },
  {
   "cell_type": "code",
   "execution_count": 1,
   "id": "cd3d1501",
   "metadata": {},
   "outputs": [],
   "source": [
    "import serial\n",
    "import serial.tools.list_ports\n",
    "import numpy as np\n",
    "import csv\n",
    "import datetime\n",
    "import pandas as pd"
   ]
  },
  {
   "cell_type": "code",
   "execution_count": 2,
   "id": "8fb8e2b9",
   "metadata": {},
   "outputs": [],
   "source": [
    "def find_arduino(port=None):\n",
    "    \"\"\"Get the name of the port that is connected to Arduino.\"\"\"\n",
    "    if port is None:\n",
    "        ports = serial.tools.list_ports.comports()\n",
    "        for p in ports:\n",
    "            if p.manufacturer is not None and \"Arduino\" in p.manufacturer:\n",
    "                port = p.device\n",
    "    return port\n",
    "\n",
    "def parse_line(line_in):\n",
    "    return str.split(str.split(str(line_in),\"\\\\r\\\\n\")[0],\"b'\")[1]"
   ]
  },
  {
   "cell_type": "code",
   "execution_count": 9,
   "id": "b7b8f2a5",
   "metadata": {},
   "outputs": [],
   "source": [
    "#load arduino\n",
    "ports = serial.tools.list_ports.comports()\n",
    "port = find_arduino()\n",
    "arduino = serial.Serial(port, baudrate=9600, timeout=1)\n",
    "arduino.close()\n",
    "arduino.open()"
   ]
  },
  {
   "cell_type": "code",
   "execution_count": 10,
   "id": "90d83f04",
   "metadata": {},
   "outputs": [
    {
     "name": "stdout",
     "output_type": "stream",
     "text": [
      "next measurement\n",
      "3299.594\n",
      "3299.535\n",
      "3299.642\n",
      "3299.548\n",
      "3299.529\n",
      "next measurement\n",
      "3299.571\n",
      "3299.613\n",
      "3299.574\n",
      "3299.639\n",
      "3299.535\n",
      "next measurement\n",
      "3299.6\n",
      "3299.597\n",
      "3299.684\n",
      "3299.6\n",
      "3299.748\n"
     ]
    }
   ],
   "source": [
    "columns=[]\n",
    "readings = 0\n",
    "while readings<3: #how many beakers, can edit for some wiggle room\n",
    "    line_in = arduino.read_until()\n",
    "    if line_in == bytes('Next Measurement\\r\\n','utf-8'):\n",
    "        print(\"next measurement\")\n",
    "        times = []\n",
    "        vals = []\n",
    "        count = 0\n",
    "        while count < 5: #edit to change how many readings\n",
    "            line_in = arduino.read_until()\n",
    "            time = str(datetime.datetime.now())\n",
    "            if line_in is not bytes():\n",
    "                val = float(parse_line(line_in))\n",
    "                times.append(time)\n",
    "                vals.append(val)\n",
    "                print(val)\n",
    "                count = count+1\n",
    "        columns.append(times)\n",
    "        columns.append(vals)\n",
    "        readings = readings+1 \n",
    "    "
   ]
  },
  {
   "cell_type": "code",
   "execution_count": 31,
   "id": "0d97ae10",
   "metadata": {},
   "outputs": [],
   "source": [
    "filename = str(datetime.date.today()) + \"_\" + str(datetime.datetime.now().hour) + \"-\" + str(datetime.datetime.now().minute) + \"_nitrate\" \n",
    "#edit this for each experiment\n",
    "pd.DataFrame(columns).T.to_csv(filename,index=False)"
   ]
  },
  {
   "cell_type": "code",
   "execution_count": null,
   "id": "a214b407",
   "metadata": {},
   "outputs": [],
   "source": []
  }
 ],
 "metadata": {
  "kernelspec": {
   "display_name": "Python 3 (ipykernel)",
   "language": "python",
   "name": "python3"
  },
  "language_info": {
   "codemirror_mode": {
    "name": "ipython",
    "version": 3
   },
   "file_extension": ".py",
   "mimetype": "text/x-python",
   "name": "python",
   "nbconvert_exporter": "python",
   "pygments_lexer": "ipython3",
   "version": "3.9.12"
  }
 },
 "nbformat": 4,
 "nbformat_minor": 5
}
